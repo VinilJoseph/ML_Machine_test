{
 "cells": [
  {
   "cell_type": "code",
   "execution_count": 1,
   "id": "5053c542",
   "metadata": {},
   "outputs": [],
   "source": [
    "#### **Dataset:**: a synthetic dataset for clustering \n",
    "from sklearn.datasets import make_blobs\n",
    "import numpy as np\n",
    "\n",
    "X, _ = make_blobs(n_samples=300, centers=4, cluster_std=0.60, random_state=0)\n"
   ]
  },
  {
   "cell_type": "code",
   "execution_count": 4,
   "id": "04c35d78",
   "metadata": {},
   "outputs": [
    {
     "data": {
      "text/plain": [
       "(300, 2)"
      ]
     },
     "execution_count": 4,
     "metadata": {},
     "output_type": "execute_result"
    }
   ],
   "source": [
    "X.shape"
   ]
  },
  {
   "cell_type": "code",
   "execution_count": 11,
   "id": "01c52a2f",
   "metadata": {},
   "outputs": [],
   "source": [
    "from sklearn.cluster import KMeans\n",
    "\n",
    "# Kmeans = KMeans()\n",
    "\n",
    "wcss = []\n",
    "\n",
    "for k in range(1, 11):\n",
    "    kmeans = KMeans(n_clusters = k, init='k-means++', max_iter=300, n_init=10)\n",
    "    kmeans.fit(X)\n",
    "    wcss.append(kmeans.inertia_)"
   ]
  },
  {
   "cell_type": "code",
   "execution_count": 12,
   "id": "6979f996",
   "metadata": {},
   "outputs": [
    {
     "data": {
      "text/plain": [
       "[<matplotlib.lines.Line2D at 0x142ecc8b810>]"
      ]
     },
     "execution_count": 12,
     "metadata": {},
     "output_type": "execute_result"
    },
    {
     "data": {
      "image/png": "[encoded data removed]",
      "text/plain": [
       "<Figure size 640x480 with 1 Axes>"
      ]
     },
     "metadata": {},
     "output_type": "display_data"
    }
   ],
   "source": [
    "import matplotlib.pyplot as plt\n",
    "\n",
    "plt.plot(range(1, 11), wcss)"
   ]
  },
  {
   "cell_type": "code",
   "execution_count": 13,
   "id": "749e2080",
   "metadata": {},
   "outputs": [],
   "source": [
    "kmeans = KMeans(n_clusters = 4, init='k-means++', max_iter=300, n_init=10)"
   ]
  },
  {
   "cell_type": "code",
   "execution_count": 14,
   "id": "e1d67ee4",
   "metadata": {},
   "outputs": [],
   "source": [
    "# 1. **Initialize Centroids**: Randomly select k points as initial centroids.\n",
    "# 2. **Distance Calculation**: Compute the Euclidean distance between data points and centroids.\n",
    "# 3. **Assign Clusters**: Assign each point to the nearest centroid.\n",
    "# 4. **Update Centroids**: Recalculate centroids as the mean of the points in each cluster.\n",
    "# 5. **Repeat Until Convergence**: Iterate until centroids stop changing or after a fixed number of iterations.\n",
    "# 6. **Cluster Visualization**: Plot the data points and the resulting clusters with centroids."
   ]
  },
  {
   "cell_type": "code",
   "execution_count": null,
   "id": "e308d4a2",
   "metadata": {},
   "outputs": [],
   "source": [
    "def initialize_centroids(X, k):\n",
    "    random_ind = np.random.choice(X.shape[0],k)\n",
    "    return X[random_ind]  \n",
    "    \n",
    "def assign_clusters(X, centroids):\n",
    "    distance = np.sqrt((X))\n",
    "\n",
    "def update_centroids():\n",
    "    pass\n",
    "\n",
    "def Kmeans(X, k):;\n",
    "    centroids = initialize_centroids(X, k)\n",
    "    "
   ]
  }
 ],
 "metadata": {
  "kernelspec": {
   "display_name": "Python 3 (ipykernel)",
   "language": "python",
   "name": "python3"
  },
  "language_info": {
   "codemirror_mode": {
    "name": "ipython",
    "version": 3
   },
   "file_extension": ".py",
   "mimetype": "text/x-python",
   "name": "python",
   "nbconvert_exporter": "python",
   "pygments_lexer": "ipython3",
   "version": "3.11.5"
  }
 },
 "nbformat": 4,
 "nbformat_minor": 5
}
